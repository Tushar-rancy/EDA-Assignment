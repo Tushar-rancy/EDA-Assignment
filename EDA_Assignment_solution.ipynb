{
  "cells": [
    {
      "cell_type": "markdown",
      "metadata": {
        "id": "view-in-github",
        "colab_type": "text"
      },
      "source": [
        "<a href=\"https://colab.research.google.com/github/Tushar-rancy/EDA-Assignment/blob/main/EDA_Assignment_solution.ipynb\" target=\"_parent\"><img src=\"https://colab.research.google.com/assets/colab-badge.svg\" alt=\"Open In Colab\"/></a>"
      ]
    },
    {
      "cell_type": "code",
      "execution_count": null,
      "id": "224c3639",
      "metadata": {
        "id": "224c3639"
      },
      "outputs": [],
      "source": [
        "# Load the car dataset (assume 'car.csv' is uploaded)\n",
        "import pandas as pd\n",
        "import seaborn as sns\n",
        "import matplotlib.pyplot as plt\n",
        "\n",
        "car_df = pd.read_csv(\"car.csv\")\n",
        "car_df.head()"
      ]
    },
    {
      "cell_type": "markdown",
      "id": "93606f1d",
      "metadata": {
        "id": "93606f1d"
      },
      "source": [
        "### Q1: What is the average selling price of cars for each dealer, and how does it compare across different dealers?"
      ]
    },
    {
      "cell_type": "code",
      "execution_count": null,
      "id": "aea2600a",
      "metadata": {
        "id": "aea2600a"
      },
      "outputs": [],
      "source": [
        "car_df.groupby('dealer')['selling_price'].mean().sort_values(ascending=False).plot(kind='bar')\n",
        "plt.title('Average Selling Price by Dealer')\n",
        "plt.ylabel('Selling Price')\n",
        "plt.xticks(rotation=45)\n",
        "plt.tight_layout()\n",
        "plt.show()"
      ]
    },
    {
      "cell_type": "markdown",
      "id": "26724a47",
      "metadata": {
        "id": "26724a47"
      },
      "source": [
        "### Q2: Which car brand (Company) has the highest variation in prices, and what does this tell us about the pricing trends?"
      ]
    },
    {
      "cell_type": "code",
      "execution_count": null,
      "id": "bc2be79a",
      "metadata": {
        "id": "bc2be79a"
      },
      "outputs": [],
      "source": [
        "car_df.groupby('company')['selling_price'].std().sort_values(ascending=False).head(10).plot(kind='bar')\n",
        "plt.title('Price Variation by Brand')\n",
        "plt.ylabel('Standard Deviation')\n",
        "plt.xticks(rotation=45)\n",
        "plt.tight_layout()\n",
        "plt.show()"
      ]
    },
    {
      "cell_type": "markdown",
      "id": "e3ec66ff",
      "metadata": {
        "id": "e3ec66ff"
      },
      "source": [
        "### Q3: What is the distribution of car prices for each transmission type, and how do the interquartile ranges compare?"
      ]
    },
    {
      "cell_type": "code",
      "execution_count": null,
      "id": "254ee6e4",
      "metadata": {
        "id": "254ee6e4"
      },
      "outputs": [],
      "source": [
        "sns.boxplot(data=car_df, x='transmission', y='selling_price')\n",
        "plt.title('Selling Price by Transmission Type')\n",
        "plt.show()"
      ]
    },
    {
      "cell_type": "markdown",
      "id": "333bfcf9",
      "metadata": {
        "id": "333bfcf9"
      },
      "source": [
        "### Q4: What is the distribution of car prices across different regions?"
      ]
    },
    {
      "cell_type": "code",
      "execution_count": null,
      "id": "e4413702",
      "metadata": {
        "id": "e4413702"
      },
      "outputs": [],
      "source": [
        "sns.boxplot(data=car_df, x='region', y='selling_price')\n",
        "plt.title('Selling Price by Region')\n",
        "plt.xticks(rotation=45)\n",
        "plt.show()"
      ]
    },
    {
      "cell_type": "markdown",
      "id": "3e04d1bf",
      "metadata": {
        "id": "3e04d1bf"
      },
      "source": [
        "### Q5: What is the distribution of cars based on body styles?"
      ]
    },
    {
      "cell_type": "code",
      "execution_count": null,
      "id": "6fdc18b3",
      "metadata": {
        "id": "6fdc18b3"
      },
      "outputs": [],
      "source": [
        "sns.countplot(data=car_df, x='body_style', order=car_df['body_style'].value_counts().index)\n",
        "plt.title('Count of Cars by Body Style')\n",
        "plt.xticks(rotation=45)\n",
        "plt.show()"
      ]
    },
    {
      "cell_type": "markdown",
      "id": "5473c8ca",
      "metadata": {
        "id": "5473c8ca"
      },
      "source": [
        "### Q6: How does the average selling price of cars vary by customer gender and annual income?"
      ]
    },
    {
      "cell_type": "code",
      "execution_count": null,
      "id": "04cf500c",
      "metadata": {
        "id": "04cf500c"
      },
      "outputs": [],
      "source": [
        "car_df.groupby(['customer_gender'])['selling_price'].mean().plot(kind='bar', title='Avg Price by Gender')\n",
        "plt.ylabel('Selling Price')\n",
        "plt.show()\n",
        "\n",
        "sns.scatterplot(data=car_df, x='customer_annual_income', y='selling_price', hue='customer_gender')\n",
        "plt.title('Price vs Income by Gender')\n",
        "plt.show()"
      ]
    },
    {
      "cell_type": "markdown",
      "id": "7615b8de",
      "metadata": {
        "id": "7615b8de"
      },
      "source": [
        "### Q7: What is the distribution of car prices by region, and how does the number of cars sold vary by region?"
      ]
    },
    {
      "cell_type": "code",
      "execution_count": null,
      "id": "216fa4fc",
      "metadata": {
        "id": "216fa4fc"
      },
      "outputs": [],
      "source": [
        "sns.violinplot(data=car_df, x='region', y='selling_price')\n",
        "plt.xticks(rotation=45)\n",
        "plt.title('Price Distribution by Region')\n",
        "plt.show()\n",
        "\n",
        "car_df['region'].value_counts().plot(kind='bar', title='Number of Cars Sold by Region')\n",
        "plt.ylabel('Count')\n",
        "plt.show()"
      ]
    },
    {
      "cell_type": "markdown",
      "id": "3e9723fe",
      "metadata": {
        "id": "3e9723fe"
      },
      "source": [
        "### Q8: How does the average car price differ between cars with different engine sizes?"
      ]
    },
    {
      "cell_type": "code",
      "execution_count": null,
      "id": "0b8a9803",
      "metadata": {
        "id": "0b8a9803"
      },
      "outputs": [],
      "source": [
        "car_df.groupby('engine_size')['selling_price'].mean().plot(kind='bar')\n",
        "plt.title('Avg Price by Engine Size')\n",
        "plt.ylabel('Selling Price')\n",
        "plt.show()"
      ]
    },
    {
      "cell_type": "markdown",
      "id": "6653dbd1",
      "metadata": {
        "id": "6653dbd1"
      },
      "source": [
        "### Q9: How do car prices vary based on the customer’s annual income bracket?"
      ]
    },
    {
      "cell_type": "code",
      "execution_count": null,
      "id": "ae03af91",
      "metadata": {
        "id": "ae03af91"
      },
      "outputs": [],
      "source": [
        "# Create income brackets\n",
        "car_df['income_bracket'] = pd.qcut(car_df['customer_annual_income'], 4, labels=['Low', 'Medium', 'High', 'Very High'])\n",
        "sns.boxplot(x='income_bracket', y='selling_price', data=car_df)\n",
        "plt.title('Car Price by Income Bracket')\n",
        "plt.show()"
      ]
    },
    {
      "cell_type": "markdown",
      "id": "f0a80126",
      "metadata": {
        "id": "f0a80126"
      },
      "source": [
        "### Q10: What are the top 5 car models with the highest number of sales, and how does their price distribution look?"
      ]
    },
    {
      "cell_type": "code",
      "execution_count": null,
      "id": "22ae25fd",
      "metadata": {
        "id": "22ae25fd"
      },
      "outputs": [],
      "source": [
        "top_models = car_df['model'].value_counts().head(5).index\n",
        "sns.boxplot(data=car_df[car_df['model'].isin(top_models)], x='model', y='selling_price')\n",
        "plt.title('Price Distribution of Top 5 Selling Car Models')\n",
        "plt.show()"
      ]
    },
    {
      "cell_type": "markdown",
      "id": "ba2ec4f3",
      "metadata": {
        "id": "ba2ec4f3"
      },
      "source": [
        "### Q11: How does car price vary with engine size across different car colors, and which colors have the highest price variation?"
      ]
    },
    {
      "cell_type": "code",
      "execution_count": null,
      "id": "09827125",
      "metadata": {
        "id": "09827125"
      },
      "outputs": [],
      "source": [
        "sns.boxplot(data=car_df, x='color', y='selling_price')\n",
        "plt.xticks(rotation=45)\n",
        "plt.title('Price Distribution by Color')\n",
        "plt.show()\n",
        "\n",
        "sns.scatterplot(data=car_df, x='engine_size', y='selling_price', hue='color')\n",
        "plt.title('Price vs Engine Size by Color')\n",
        "plt.show()"
      ]
    },
    {
      "cell_type": "markdown",
      "id": "9d28d3d7",
      "metadata": {
        "id": "9d28d3d7"
      },
      "source": [
        "### Q12: Is there any seasonal trend in car sales based on the date of sale?"
      ]
    },
    {
      "cell_type": "code",
      "execution_count": null,
      "id": "197a048b",
      "metadata": {
        "id": "197a048b"
      },
      "outputs": [],
      "source": [
        "car_df['sale_date'] = pd.to_datetime(car_df['sale_date'])\n",
        "car_df['sale_month'] = car_df['sale_date'].dt.month\n",
        "car_df['sale_month'].value_counts().sort_index().plot(kind='bar', title='Monthly Car Sales')\n",
        "plt.xlabel('Month')\n",
        "plt.ylabel('Number of Sales')\n",
        "plt.show()"
      ]
    },
    {
      "cell_type": "markdown",
      "id": "8f3a1881",
      "metadata": {
        "id": "8f3a1881"
      },
      "source": [
        "### Q13: How does the car price distribution change when considering different combinations of body style and transmission type?"
      ]
    },
    {
      "cell_type": "code",
      "execution_count": null,
      "id": "046eaf9d",
      "metadata": {
        "id": "046eaf9d"
      },
      "outputs": [],
      "source": [
        "sns.boxplot(data=car_df, x='body_style', y='selling_price', hue='transmission')\n",
        "plt.xticks(rotation=45)\n",
        "plt.title('Price by Body Style and Transmission')\n",
        "plt.show()"
      ]
    },
    {
      "cell_type": "markdown",
      "id": "ce295f55",
      "metadata": {
        "id": "ce295f55"
      },
      "source": [
        "### Q14: What is the correlation between car price, engine size, and annual income of customers, and how do these features interact?"
      ]
    },
    {
      "cell_type": "code",
      "execution_count": null,
      "id": "f502bf34",
      "metadata": {
        "id": "f502bf34"
      },
      "outputs": [],
      "source": [
        "sns.heatmap(car_df[['selling_price', 'engine_size', 'customer_annual_income']].corr(), annot=True)\n",
        "plt.title('Correlation Heatmap')\n",
        "plt.show()"
      ]
    },
    {
      "cell_type": "markdown",
      "id": "0168f6e1",
      "metadata": {
        "id": "0168f6e1"
      },
      "source": [
        "### Q15: How does the average car price vary across different car models and engine types?"
      ]
    },
    {
      "cell_type": "code",
      "execution_count": null,
      "id": "f95b686d",
      "metadata": {
        "id": "f95b686d"
      },
      "outputs": [],
      "source": [
        "car_df.groupby(['model', 'engine_type'])['selling_price'].mean().unstack().plot(kind='bar', figsize=(10, 6))\n",
        "plt.title('Average Car Price by Model and Engine Type')\n",
        "plt.ylabel('Selling Price')\n",
        "plt.tight_layout()\n",
        "plt.show()"
      ]
    },
    {
      "cell_type": "markdown",
      "id": "6b079144",
      "metadata": {
        "id": "6b079144"
      },
      "source": [
        "---"
      ]
    },
    {
      "cell_type": "code",
      "execution_count": null,
      "id": "63a232af",
      "metadata": {
        "id": "63a232af"
      },
      "outputs": [],
      "source": [
        "# Load the Spotify dataset (assuming 'spotify.csv' is uploaded)\n",
        "import pandas as pd\n",
        "import seaborn as sns\n",
        "import matplotlib.pyplot as plt\n",
        "\n",
        "spotify_df = pd.read_csv(\"spotify.csv\")\n",
        "spotify_df.head()"
      ]
    },
    {
      "cell_type": "markdown",
      "id": "29307341",
      "metadata": {
        "id": "29307341"
      },
      "source": [
        "### Q1: Check for null values and duplicates, and handle them."
      ]
    },
    {
      "cell_type": "code",
      "execution_count": null,
      "id": "2bdf8c5f",
      "metadata": {
        "id": "2bdf8c5f"
      },
      "outputs": [],
      "source": [
        "# Null values and duplicates\n",
        "print(spotify_df.isnull().sum())\n",
        "spotify_df.dropna(inplace=True)\n",
        "spotify_df.drop_duplicates(inplace=True)"
      ]
    },
    {
      "cell_type": "markdown",
      "id": "343db2b0",
      "metadata": {
        "id": "343db2b0"
      },
      "source": [
        "### Q2: What is the distribution of popularity among the tracks?"
      ]
    },
    {
      "cell_type": "code",
      "execution_count": null,
      "id": "73bb714a",
      "metadata": {
        "id": "73bb714a"
      },
      "outputs": [],
      "source": [
        "# Histogram of popularity\n",
        "sns.histplot(spotify_df['popularity'], bins=30, kde=True)\n",
        "plt.title('Track Popularity Distribution')\n",
        "plt.xlabel('Popularity')\n",
        "plt.ylabel('Count')\n",
        "plt.show()"
      ]
    },
    {
      "cell_type": "markdown",
      "id": "64ed1548",
      "metadata": {
        "id": "64ed1548"
      },
      "source": [
        "### Q3: Is there a relationship between track popularity and duration?"
      ]
    },
    {
      "cell_type": "code",
      "execution_count": null,
      "id": "94dfa363",
      "metadata": {
        "id": "94dfa363"
      },
      "outputs": [],
      "source": [
        "# Scatter plot\n",
        "sns.scatterplot(x='duration_ms', y='popularity', data=spotify_df)\n",
        "plt.title('Popularity vs Duration')\n",
        "plt.xlabel('Duration (ms)')\n",
        "plt.ylabel('Popularity')\n",
        "plt.show()"
      ]
    },
    {
      "cell_type": "markdown",
      "id": "bed3f1ff",
      "metadata": {
        "id": "bed3f1ff"
      },
      "source": [
        "### Q4: Which artist has the highest number of tracks?"
      ]
    },
    {
      "cell_type": "code",
      "execution_count": null,
      "id": "f0170f33",
      "metadata": {
        "id": "f0170f33"
      },
      "outputs": [],
      "source": [
        "top_artists = spotify_df['artist_name'].value_counts().head(10)\n",
        "sns.barplot(y=top_artists.index, x=top_artists.values)\n",
        "plt.title('Top Artists by Number of Tracks')\n",
        "plt.xlabel('Number of Tracks')\n",
        "plt.ylabel('Artist')\n",
        "plt.show()"
      ]
    },
    {
      "cell_type": "markdown",
      "id": "80260de1",
      "metadata": {
        "id": "80260de1"
      },
      "source": [
        "### Q5: What are the top 5 least popular tracks?"
      ]
    },
    {
      "cell_type": "code",
      "execution_count": null,
      "id": "f71f837b",
      "metadata": {
        "id": "f71f837b"
      },
      "outputs": [],
      "source": [
        "spotify_df[['artist_name', 'track_name', 'popularity']].sort_values(by='popularity').head(5)"
      ]
    },
    {
      "cell_type": "markdown",
      "id": "2b1d132d",
      "metadata": {
        "id": "2b1d132d"
      },
      "source": [
        "### Q6: Among top 5 popular artists, who has the highest average popularity?"
      ]
    },
    {
      "cell_type": "code",
      "execution_count": null,
      "id": "c500e0dd",
      "metadata": {
        "id": "c500e0dd"
      },
      "outputs": [],
      "source": [
        "top5_artists = spotify_df['artist_name'].value_counts().head(5).index\n",
        "spotify_df[spotify_df['artist_name'].isin(top5_artists)].groupby('artist_name')['popularity'].mean().sort_values(ascending=False)"
      ]
    },
    {
      "cell_type": "markdown",
      "id": "1a448cac",
      "metadata": {
        "id": "1a448cac"
      },
      "source": [
        "### Q7: Most popular track for each of the top 5 artists."
      ]
    },
    {
      "cell_type": "code",
      "execution_count": null,
      "id": "eae59f78",
      "metadata": {
        "id": "eae59f78"
      },
      "outputs": [],
      "source": [
        "spotify_df[spotify_df['artist_name'].isin(top5_artists)].sort_values(['artist_name', 'popularity'], ascending=[True, False]).groupby('artist_name').head(1)[['artist_name', 'track_name', 'popularity']]"
      ]
    },
    {
      "cell_type": "markdown",
      "id": "94a55137",
      "metadata": {
        "id": "94a55137"
      },
      "source": [
        "### Q8: Visualize relationships between numerical variables using a pair plot."
      ]
    },
    {
      "cell_type": "code",
      "execution_count": null,
      "id": "dce11d67",
      "metadata": {
        "id": "dce11d67"
      },
      "outputs": [],
      "source": [
        "import seaborn as sns\n",
        "sns.pairplot(spotify_df[['popularity', 'duration_ms', 'danceability', 'energy']])\n",
        "plt.suptitle(\"Pairplot of Selected Features\", y=1.02)\n",
        "plt.show()"
      ]
    },
    {
      "cell_type": "markdown",
      "id": "4a28e7b1",
      "metadata": {
        "id": "4a28e7b1"
      },
      "source": [
        "### Q9: Does track duration vary significantly across artists?"
      ]
    },
    {
      "cell_type": "code",
      "execution_count": null,
      "id": "8beaf886",
      "metadata": {
        "id": "8beaf886"
      },
      "outputs": [],
      "source": [
        "# Boxplot for duration by top 5 artists\n",
        "sns.boxplot(x='artist_name', y='duration_ms', data=spotify_df[spotify_df['artist_name'].isin(top5_artists)])\n",
        "plt.title('Duration by Artist')\n",
        "plt.xticks(rotation=45)\n",
        "plt.show()"
      ]
    },
    {
      "cell_type": "markdown",
      "id": "e4a4a8ec",
      "metadata": {
        "id": "e4a4a8ec"
      },
      "source": [
        "### Q10: How does popularity distribution vary across different artists?"
      ]
    },
    {
      "cell_type": "code",
      "execution_count": null,
      "id": "455d983b",
      "metadata": {
        "id": "455d983b"
      },
      "outputs": [],
      "source": [
        "# Violin plot for popularity\n",
        "sns.violinplot(x='artist_name', y='popularity', data=spotify_df[spotify_df['artist_name'].isin(top5_artists)])\n",
        "plt.title('Popularity Distribution by Artist')\n",
        "plt.xticks(rotation=45)\n",
        "plt.show()"
      ]
    }
  ],
  "metadata": {
    "colab": {
      "provenance": [],
      "include_colab_link": true
    }
  },
  "nbformat": 4,
  "nbformat_minor": 5
}